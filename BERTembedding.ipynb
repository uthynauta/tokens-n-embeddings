{
 "cells": [
  {
   "cell_type": "code",
   "execution_count": 1,
   "id": "9059d8da-a67e-4314-8535-27eea51b6150",
   "metadata": {},
   "outputs": [
    {
     "name": "stderr",
     "output_type": "stream",
     "text": [
      "c:\\Users\\uif29726\\AppData\\Local\\anaconda3\\envs\\tokens\\lib\\site-packages\\tqdm\\auto.py:21: TqdmWarning: IProgress not found. Please update jupyter and ipywidgets. See https://ipywidgets.readthedocs.io/en/stable/user_install.html\n",
      "  from .autonotebook import tqdm as notebook_tqdm\n"
     ]
    }
   ],
   "source": [
    "import tensorflow as tf\n",
    "from transformers import BertTokenizer, TFBertModel"
   ]
  },
  {
   "cell_type": "code",
   "execution_count": null,
   "id": "aa044767-7189-414f-bf64-33a74a03f4cd",
   "metadata": {},
   "outputs": [
    {
     "name": "stdout",
     "output_type": "stream",
     "text": [
      "Tokenized inputs: {'input_ids': <tf.Tensor: shape=(2, 11), dtype=int32, numpy=\n",
      "array([[ 101, 1996, 3345, 2003, 2746, 2091, 1996, 4296, 1012,  102,    0],\n",
      "       [ 101, 1045, 2052, 2066, 2000, 3345, 2005, 1996, 8589, 1012,  102]])>, 'token_type_ids': <tf.Tensor: shape=(2, 11), dtype=int32, numpy=\n",
      "array([[0, 0, 0, 0, 0, 0, 0, 0, 0, 0, 0],\n",
      "       [0, 0, 0, 0, 0, 0, 0, 0, 0, 0, 0]])>, 'attention_mask': <tf.Tensor: shape=(2, 11), dtype=int32, numpy=\n",
      "array([[1, 1, 1, 1, 1, 1, 1, 1, 1, 1, 0],\n",
      "       [1, 1, 1, 1, 1, 1, 1, 1, 1, 1, 1]])>}\n"
     ]
    },
    {
     "name": "stderr",
     "output_type": "stream",
     "text": [
      "Some weights of the PyTorch model were not used when initializing the TF 2.0 model TFBertModel: ['cls.predictions.bias', 'cls.predictions.transform.dense.weight', 'cls.seq_relationship.bias', 'cls.predictions.transform.LayerNorm.weight', 'cls.predictions.transform.dense.bias', 'cls.seq_relationship.weight', 'cls.predictions.transform.LayerNorm.bias']\n",
      "- This IS expected if you are initializing TFBertModel from a PyTorch model trained on another task or with another architecture (e.g. initializing a TFBertForSequenceClassification model from a BertForPreTraining model).\n",
      "- This IS NOT expected if you are initializing TFBertModel from a PyTorch model that you expect to be exactly identical (e.g. initializing a TFBertForSequenceClassification model from a BertForSequenceClassification model).\n",
      "All the weights of TFBertModel were initialized from the PyTorch model.\n",
      "If your task is similar to the task the model of the checkpoint was trained on, you can already use TFBertModel for predictions without further training.\n"
     ]
    },
    {
     "name": "stdout",
     "output_type": "stream",
     "text": [
      "Model: \"tf_bert_model_3\"\n",
      "_________________________________________________________________\n",
      " Layer (type)                Output Shape              Param #   \n",
      "=================================================================\n",
      " bert (TFBertMainLayer)      multiple                  109482240 \n",
      "                                                                 \n",
      "=================================================================\n",
      "Total params: 109,482,240\n",
      "Trainable params: 109,482,240\n",
      "Non-trainable params: 0\n",
      "_________________________________________________________________\n",
      "Output type: <class 'transformers.modeling_tf_outputs.TFBaseModelOutputWithPoolingAndCrossAttentions'>\n",
      "Last hidden state shape: (2, 11, 768)\n",
      "Embeddings: tf.Tensor(\n",
      "[[[ 0.10757083  0.3880875   0.12968853 ... -0.4632478   0.1166324\n",
      "    0.23986953]\n",
      "  [-0.20239697 -0.42824233 -0.7406918  ... -0.20015913  0.6608236\n",
      "   -0.06402533]\n",
      "  [ 1.1334908  -0.44801068  0.25663394 ... -0.5473359   0.42921066\n",
      "   -0.2071341 ]\n",
      "  ...\n",
      "  [ 0.5309195   0.43836066 -0.15911084 ... -0.23734377  0.05778742\n",
      "   -0.58127695]\n",
      "  [-0.22118981  0.07114679  0.07976199 ... -0.14295687  0.07923429\n",
      "   -0.447056  ]\n",
      "  [ 0.40179598  0.19537987  0.3709886  ...  0.14876959  0.37788206\n",
      "    0.00747568]]\n",
      "\n",
      " [[ 0.32647732 -0.24099445  0.25411284 ... -0.3292991   0.41646826\n",
      "    0.3048881 ]\n",
      "  [ 0.4442199  -0.17011225 -0.29492152 ... -0.02830905  0.8648336\n",
      "    0.3272952 ]\n",
      "  [ 0.10310555 -0.8728537  -0.23329659 ... -0.22357434  0.4149938\n",
      "   -0.3323836 ]\n",
      "  ...\n",
      "  [ 0.866559    0.26735902 -0.24401614 ... -0.76456755 -0.6981136\n",
      "    0.04426098]\n",
      "  [ 0.43335372  0.14349285 -0.27156025 ...  0.09431835 -0.12662832\n",
      "   -0.4518561 ]\n",
      "  [ 0.12212267 -0.4866412   0.41418755 ...  0.3365797   0.13289037\n",
      "   -0.04031678]]], shape=(2, 11, 768), dtype=float32)\n"
     ]
    }
   ],
   "source": [
    "# Step 1: Initialize the Tokenizer\n",
    "tokenizer = BertTokenizer.from_pretrained('bert-base-uncased')\n",
    "\n",
    "# Step 2: Tokenize the Sentences\n",
    "sentences = [\"The train is coming down the railroad.\", \"I would like to train for the marathon.\"]\n",
    "inputs = tokenizer(sentences, return_tensors=\"tf\", padding=True, truncation=True)\n",
    "print(\"Tokenized inputs:\", inputs)\n"
   ]
  },
  {
   "cell_type": "code",
   "execution_count": null,
   "id": "e9887c37",
   "metadata": {},
   "outputs": [],
   "source": [
    "# Step 3: Load the BERT Model from a local path\n",
    "local_model_path = 'models/bert-base-uncased'\n",
    "bert_model = TFBertModel.from_pretrained(local_model_path)\n",
    "bert_model.summary()"
   ]
  },
  {
   "cell_type": "code",
   "execution_count": null,
   "id": "95c2eda4",
   "metadata": {},
   "outputs": [],
   "source": [
    "# Step 4: Get the Embeddings\n",
    "outputs = bert_model(inputs)\n",
    "print(\"Output type:\", type(outputs))\n",
    "print(\"Last hidden state shape:\", outputs.last_hidden_state.shape)\n",
    "\n",
    "# Step 5: Extract the Embeddings\n",
    "embeddings = outputs.last_hidden_state\n",
    "print(\"Embeddings:\", embeddings)"
   ]
  },
  {
   "cell_type": "code",
   "execution_count": 9,
   "id": "14318cfb-fbc2-4a99-af19-fa62d3a980e8",
   "metadata": {},
   "outputs": [
    {
     "name": "stderr",
     "output_type": "stream",
     "text": [
      "Some weights of the PyTorch model were not used when initializing the TF 2.0 model TFBertModel: ['cls.predictions.bias', 'cls.predictions.transform.dense.weight', 'cls.seq_relationship.bias', 'cls.predictions.transform.LayerNorm.weight', 'cls.predictions.transform.dense.bias', 'cls.seq_relationship.weight', 'cls.predictions.transform.LayerNorm.bias']\n",
      "- This IS expected if you are initializing TFBertModel from a PyTorch model trained on another task or with another architecture (e.g. initializing a TFBertForSequenceClassification model from a BertForPreTraining model).\n",
      "- This IS NOT expected if you are initializing TFBertModel from a PyTorch model that you expect to be exactly identical (e.g. initializing a TFBertForSequenceClassification model from a BertForSequenceClassification model).\n",
      "All the weights of TFBertModel were initialized from the PyTorch model.\n",
      "If your task is similar to the task the model of the checkpoint was trained on, you can already use TFBertModel for predictions without further training.\n"
     ]
    },
    {
     "name": "stdout",
     "output_type": "stream",
     "text": [
      "Model: \"tf_bert_model_2\"\n",
      "_________________________________________________________________\n",
      " Layer (type)                Output Shape              Param #   \n",
      "=================================================================\n",
      " bert (TFBertMainLayer)      multiple                  109482240 \n",
      "                                                                 \n",
      "=================================================================\n",
      "Total params: 109,482,240\n",
      "Trainable params: 109,482,240\n",
      "Non-trainable params: 0\n",
      "_________________________________________________________________\n",
      "Output type: <class 'transformers.modeling_tf_outputs.TFBaseModelOutputWithPoolingAndCrossAttentions'>\n",
      "Last hidden state shape: (1, 10, 768)\n",
      "Embeddings: tf.Tensor(\n",
      "[[[ 0.11519857  0.4218652  -0.07239948 ... -0.31876746  0.42083034\n",
      "    0.3457224 ]\n",
      "  [ 0.5871951   0.47900453 -0.26907337 ... -0.47323546  1.5698124\n",
      "   -0.5054238 ]\n",
      "  [ 0.7203411   0.24260135  0.17398909 ... -0.5581568   0.66156596\n",
      "    0.31098303]\n",
      "  ...\n",
      "  [ 0.18190551  0.45673084  0.4914439  ...  0.50699973  0.08128806\n",
      "    0.31542805]\n",
      "  [ 0.6777957   0.03997956 -0.35449222 ...  0.19579566 -0.46992162\n",
      "   -0.6006605 ]\n",
      "  [ 0.97253007  0.07303382 -0.20486288 ...  0.09785198 -0.7502231\n",
      "   -0.39731923]]], shape=(1, 10, 768), dtype=float32)\n"
     ]
    }
   ],
   "source": [
    "local_model_path = 'models\\\\bert-base-uncased'\n",
    "\n",
    "# Step 3: Load the BERT Model from a local path\n",
    "bert_model = TFBertModel.from_pretrained(local_model_path)\n",
    "bert_model.summary()\n",
    "\n",
    "# Step 4: Get the Embeddings\n",
    "outputs = bert_model(inputs)\n",
    "print(\"Output type:\", type(outputs))\n",
    "print(\"Last hidden state shape:\", outputs.last_hidden_state.shape)\n",
    "\n",
    "# Step 5: Extract the Embeddings\n",
    "embeddings = outputs.last_hidden_state\n",
    "print(\"Embeddings:\", embeddings)"
   ]
  },
  {
   "cell_type": "code",
   "execution_count": 19,
   "id": "b3ccb83d-eecd-4596-8a02-570fe35b6017",
   "metadata": {},
   "outputs": [
    {
     "name": "stdout",
     "output_type": "stream",
     "text": [
      "Tokens 1: ['[CLS]', 'the', 'train', 'is', 'coming', 'down', 'the', 'railroad', '.', '[SEP]', '[PAD]']\n",
      "Tokens 2: ['[CLS]', 'i', 'would', 'like', 'to', 'train', 'for', 'the', 'marathon', '.', '[SEP]']\n",
      "Index of 'train' in sentence 1: 2\n",
      "Index of 'train' in sentence 2: 5\n",
      "Size of embedding for 'train' in sentence 1: 768\n",
      "Size of embedding for 'train' in sentence 2: 768\n",
      "Embedding for 'train' in sentence 1: tf.Tensor(\n",
      "[ 1.1334908  -0.44801068  0.25663394  0.05864524  0.08220526 -0.43779406\n",
      "  0.94841     1.1336415   0.36283237 -0.24162242], shape=(10,), dtype=float32)\n",
      "Embedding for 'train' in sentence 2: tf.Tensor(\n",
      "[ 1.2525578  -0.01590084  0.22371037 -0.39468217 -0.633641   -0.5781268\n",
      "  0.15272336  0.4784645   0.66080505  0.41733947], shape=(10,), dtype=float32)\n"
     ]
    }
   ],
   "source": [
    "# Step 6: Identify the position of the token 'train' in both sentences\n",
    "tokens_1 = tokenizer.convert_ids_to_tokens(inputs['input_ids'][0])\n",
    "tokens_2 = tokenizer.convert_ids_to_tokens(inputs['input_ids'][1])\n",
    "print(\"Tokens 1:\", tokens_1)\n",
    "print(\"Tokens 2:\", tokens_2)\n",
    "\n",
    "# Find the index of the token 'train' in both tokenized sentences\n",
    "index_train_1 = tokens_1.index('train')\n",
    "index_train_2 = tokens_2.index('train')\n",
    "\n",
    "size_train_1 = len(tokens_1)\n",
    "size_train_2 = len(tokens_2)\n",
    "\n",
    "print(\"Index of 'train' in sentence 1:\", index_train_1)\n",
    "print(\"Index of 'train' in sentence 2:\", index_train_2)\n",
    "\n",
    "# Extract the embeddings for the token 'train' in both sentences\n",
    "embedding_train_1 = embeddings[0, index_train_1, :]\n",
    "embedding_train_2 = embeddings[1, index_train_2, :]\n",
    "\n",
    "size_train_1 = len(embedding_train_1)\n",
    "size_train_2 = len(embedding_train_2)\n",
    "\n",
    "print(\"Size of embedding for 'train' in sentence 1:\", size_train_1)\n",
    "print(\"Size of embedding for 'train' in sentence 2:\", size_train_2)\n",
    "\n",
    "print(\"Embedding for 'train' in sentence 1:\", embedding_train_1[:10])\n",
    "print(\"Embedding for 'train' in sentence 2:\", embedding_train_2[:10])"
   ]
  },
  {
   "cell_type": "code",
   "execution_count": 18,
   "id": "9a39907f",
   "metadata": {},
   "outputs": [
    {
     "name": "stdout",
     "output_type": "stream",
     "text": [
      "Cosine similarity between the embeddings: -0.44399095\n"
     ]
    }
   ],
   "source": [
    "# Compare the embeddings\n",
    "similarity = tf.keras.losses.cosine_similarity(embedding_train_1, embedding_train_2)\n",
    "print(\"Cosine similarity between the embeddings:\", similarity.numpy())"
   ]
  },
  {
   "cell_type": "code",
   "execution_count": null,
   "id": "1d8f860c",
   "metadata": {},
   "outputs": [],
   "source": []
  }
 ],
 "metadata": {
  "kernelspec": {
   "display_name": "tokens",
   "language": "python",
   "name": "python3"
  },
  "language_info": {
   "codemirror_mode": {
    "name": "ipython",
    "version": 3
   },
   "file_extension": ".py",
   "mimetype": "text/x-python",
   "name": "python",
   "nbconvert_exporter": "python",
   "pygments_lexer": "ipython3",
   "version": "3.10.16"
  }
 },
 "nbformat": 4,
 "nbformat_minor": 5
}
